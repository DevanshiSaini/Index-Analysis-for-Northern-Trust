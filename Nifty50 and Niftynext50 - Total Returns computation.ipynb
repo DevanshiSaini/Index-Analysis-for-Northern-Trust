{
 "cells": [
  {
   "cell_type": "markdown",
   "metadata": {},
   "source": [
    "# Computing the Total Returns"
   ]
  },
  {
   "cell_type": "markdown",
   "metadata": {},
   "source": [
    "#### Import the required libraries"
   ]
  },
  {
   "cell_type": "code",
   "execution_count": 1,
   "metadata": {},
   "outputs": [],
   "source": [
    "import pandas as pd\n",
    "import matplotlib.pyplot as plt"
   ]
  },
  {
   "cell_type": "markdown",
   "metadata": {},
   "source": [
    "#### Set the working directory "
   ]
  },
  {
   "cell_type": "code",
   "execution_count": 2,
   "metadata": {},
   "outputs": [
    {
     "name": "stdout",
     "output_type": "stream",
     "text": [
      "D:\\nifty50 and niftynext50 data\n"
     ]
    }
   ],
   "source": [
    "cd D:\\nifty50 and niftynext50 data"
   ]
  },
  {
   "cell_type": "markdown",
   "metadata": {},
   "source": [
    "#### Read the csv files "
   ]
  },
  {
   "cell_type": "code",
   "execution_count": 3,
   "metadata": {},
   "outputs": [],
   "source": [
    "nifty50_sep=pd.read_csv(\"nifty50_sep.csv\", index_col=0)\n",
    "nifty50_oct=pd.read_csv(\"nifty50_oct.csv\", index_col=0)\n",
    "nifty50_nov=pd.read_csv(\"nifty50_nov.csv\", index_col=0)\n",
    "nifty50_dec=pd.read_csv(\"nifty50_dec.csv\", index_col=0)\n",
    "nifty50_jan=pd.read_csv(\"nifty50_jan.csv\", index_col=0)\n",
    "nifty50_feb=pd.read_csv(\"nifty50_feb.csv\", index_col=0)\n",
    "niftynext50_sep=pd.read_csv(\"niftynext50_sep.csv\", index_col=0)\n",
    "niftynext50_oct=pd.read_csv(\"niftynext50_oct.csv\", index_col=0)\n",
    "niftynext50_nov=pd.read_csv(\"niftynext50_nov.csv\", index_col=0)\n",
    "niftynext50_dec=pd.read_csv(\"niftynext50_dec.csv\", index_col=0)\n",
    "niftynext50_jan=pd.read_csv(\"niftynext50_jan.csv\", index_col=0)\n",
    "niftynext50_feb=pd.read_csv(\"niftynext50_feb.csv\", index_col=0)"
   ]
  },
  {
   "cell_type": "code",
   "execution_count": 4,
   "metadata": {},
   "outputs": [
    {
     "data": {
      "text/html": [
       "<div>\n",
       "<style scoped>\n",
       "    .dataframe tbody tr th:only-of-type {\n",
       "        vertical-align: middle;\n",
       "    }\n",
       "\n",
       "    .dataframe tbody tr th {\n",
       "        vertical-align: top;\n",
       "    }\n",
       "\n",
       "    .dataframe thead th {\n",
       "        text-align: right;\n",
       "    }\n",
       "</style>\n",
       "<table border=\"1\" class=\"dataframe\">\n",
       "  <thead>\n",
       "    <tr style=\"text-align: right;\">\n",
       "      <th></th>\n",
       "      <th>Security Symbol</th>\n",
       "      <th>Security Name</th>\n",
       "      <th>Industry</th>\n",
       "      <th>Equity Capital (In Rs.)</th>\n",
       "      <th>Free Float Market Capitalisation (Rs. Crores)</th>\n",
       "      <th>Weightage (%)</th>\n",
       "      <th>Beta</th>\n",
       "      <th>R2</th>\n",
       "      <th>Volatility (%)</th>\n",
       "      <th>Monthly Return</th>\n",
       "      <th>Avg. Impact Cost (%)</th>\n",
       "    </tr>\n",
       "    <tr>\n",
       "      <th>Sr. No</th>\n",
       "      <th></th>\n",
       "      <th></th>\n",
       "      <th></th>\n",
       "      <th></th>\n",
       "      <th></th>\n",
       "      <th></th>\n",
       "      <th></th>\n",
       "      <th></th>\n",
       "      <th></th>\n",
       "      <th></th>\n",
       "      <th></th>\n",
       "    </tr>\n",
       "  </thead>\n",
       "  <tbody>\n",
       "    <tr>\n",
       "      <th>1</th>\n",
       "      <td>ADANIPORTS</td>\n",
       "      <td>Adani Ports and Special Economic Zone Ltd.</td>\n",
       "      <td>SHIPPING</td>\n",
       "      <td>4141903522</td>\n",
       "      <td>25883.17</td>\n",
       "      <td>0.59</td>\n",
       "      <td>1.27</td>\n",
       "      <td>0.25</td>\n",
       "      <td>1.85</td>\n",
       "      <td>-14.158946</td>\n",
       "      <td>0.05</td>\n",
       "    </tr>\n",
       "    <tr>\n",
       "      <th>2</th>\n",
       "      <td>ASIANPAINT</td>\n",
       "      <td>Asian Paints Ltd.</td>\n",
       "      <td>PAINTS</td>\n",
       "      <td>959197790</td>\n",
       "      <td>58304.93</td>\n",
       "      <td>1.34</td>\n",
       "      <td>0.74</td>\n",
       "      <td>0.16</td>\n",
       "      <td>1.55</td>\n",
       "      <td>-5.767059</td>\n",
       "      <td>0.03</td>\n",
       "    </tr>\n",
       "    <tr>\n",
       "      <th>3</th>\n",
       "      <td>AXISBANK</td>\n",
       "      <td>Axis Bank Ltd.</td>\n",
       "      <td>BANKS</td>\n",
       "      <td>5137681032</td>\n",
       "      <td>108698.56</td>\n",
       "      <td>2.50</td>\n",
       "      <td>1.34</td>\n",
       "      <td>0.22</td>\n",
       "      <td>1.66</td>\n",
       "      <td>-5.544859</td>\n",
       "      <td>0.03</td>\n",
       "    </tr>\n",
       "    <tr>\n",
       "      <th>4</th>\n",
       "      <td>BAJAJ-AUTO</td>\n",
       "      <td>Bajaj Auto Ltd.</td>\n",
       "      <td>AUTOMOBILES - 2 AND 3 WHEELERS</td>\n",
       "      <td>2893670200</td>\n",
       "      <td>36549.99</td>\n",
       "      <td>0.84</td>\n",
       "      <td>1.02</td>\n",
       "      <td>0.21</td>\n",
       "      <td>1.86</td>\n",
       "      <td>-2.091189</td>\n",
       "      <td>0.03</td>\n",
       "    </tr>\n",
       "    <tr>\n",
       "      <th>5</th>\n",
       "      <td>BAJFINANCE</td>\n",
       "      <td>Bajaj Finance Ltd.</td>\n",
       "      <td>FINANCE</td>\n",
       "      <td>1155936776</td>\n",
       "      <td>51374.45</td>\n",
       "      <td>1.18</td>\n",
       "      <td>1.24</td>\n",
       "      <td>0.19</td>\n",
       "      <td>2.52</td>\n",
       "      <td>-24.105580</td>\n",
       "      <td>0.03</td>\n",
       "    </tr>\n",
       "  </tbody>\n",
       "</table>\n",
       "</div>"
      ],
      "text/plain": [
       "       Security Symbol                               Security Name  \\\n",
       "Sr. No                                                               \n",
       "1           ADANIPORTS  Adani Ports and Special Economic Zone Ltd.   \n",
       "2           ASIANPAINT                           Asian Paints Ltd.   \n",
       "3             AXISBANK                              Axis Bank Ltd.   \n",
       "4           BAJAJ-AUTO                             Bajaj Auto Ltd.   \n",
       "5           BAJFINANCE                          Bajaj Finance Ltd.   \n",
       "\n",
       "                              Industry  Equity Capital (In Rs.)  \\\n",
       "Sr. No                                                            \n",
       "1                             SHIPPING               4141903522   \n",
       "2                               PAINTS                959197790   \n",
       "3                                BANKS               5137681032   \n",
       "4       AUTOMOBILES - 2 AND 3 WHEELERS               2893670200   \n",
       "5                              FINANCE               1155936776   \n",
       "\n",
       "        Free Float Market Capitalisation (Rs. Crores)  Weightage (%)  Beta  \\\n",
       "Sr. No                                                                       \n",
       "1                                            25883.17           0.59  1.27   \n",
       "2                                            58304.93           1.34  0.74   \n",
       "3                                           108698.56           2.50  1.34   \n",
       "4                                            36549.99           0.84  1.02   \n",
       "5                                            51374.45           1.18  1.24   \n",
       "\n",
       "          R2  Volatility (%)  Monthly Return  Avg. Impact Cost (%)  \n",
       "Sr. No                                                              \n",
       "1       0.25            1.85      -14.158946                  0.05  \n",
       "2       0.16            1.55       -5.767059                  0.03  \n",
       "3       0.22            1.66       -5.544859                  0.03  \n",
       "4       0.21            1.86       -2.091189                  0.03  \n",
       "5       0.19            2.52      -24.105580                  0.03  "
      ]
     },
     "execution_count": 4,
     "metadata": {},
     "output_type": "execute_result"
    }
   ],
   "source": [
    "nifty50_sep.head()"
   ]
  },
  {
   "cell_type": "markdown",
   "metadata": {},
   "source": [
    "#### Multiply weightage with Monthly Return divided by 100, to obtain a new column 'Total Return'"
   ]
  },
  {
   "cell_type": "code",
   "execution_count": 5,
   "metadata": {},
   "outputs": [],
   "source": [
    "nifty50_sep['Total Return']=nifty50_sep['Weightage (%)']*nifty50_sep['Monthly Return']/100\n",
    "nifty50_oct['Total Return']=nifty50_oct['Weightage (%)']*nifty50_oct['Monthly Return']/100\n",
    "nifty50_nov['Total Return']=nifty50_nov['Weightage (%)']*nifty50_nov['Monthly Return']/100\n",
    "nifty50_dec['Total Return']=nifty50_dec['Weightage (%)']*nifty50_dec['Monthly Return']/100\n",
    "nifty50_jan['Total Return']=nifty50_jan['Weightage (%)']*nifty50_jan['Monthly Return']/100\n",
    "nifty50_feb['Total Return']=nifty50_feb['Weightage (%)']*nifty50_feb['Monthly Return']/100\n",
    "niftynext50_sep['Total Return']=niftynext50_sep['Weightage (%)']*niftynext50_sep['Monthly Return']/100\n",
    "niftynext50_oct['Total Return']=niftynext50_oct['Weightage (%)']*niftynext50_oct['Monthly Return']/100\n",
    "niftynext50_nov['Total Return']=niftynext50_nov['Weightage (%)']*niftynext50_nov['Monthly Return']/100\n",
    "niftynext50_dec['Total Return']=niftynext50_dec['Weightage (%)']*niftynext50_dec['Monthly Return']/100\n",
    "niftynext50_jan['Total Return']=niftynext50_jan['Weightage (%)']*niftynext50_jan['Monthly Return']/100\n",
    "niftynext50_feb['Total Return']=niftynext50_feb['Weightage (%)']*niftynext50_feb['Monthly Return']/100"
   ]
  },
  {
   "cell_type": "code",
   "execution_count": 6,
   "metadata": {},
   "outputs": [
    {
     "data": {
      "text/html": [
       "<div>\n",
       "<style scoped>\n",
       "    .dataframe tbody tr th:only-of-type {\n",
       "        vertical-align: middle;\n",
       "    }\n",
       "\n",
       "    .dataframe tbody tr th {\n",
       "        vertical-align: top;\n",
       "    }\n",
       "\n",
       "    .dataframe thead th {\n",
       "        text-align: right;\n",
       "    }\n",
       "</style>\n",
       "<table border=\"1\" class=\"dataframe\">\n",
       "  <thead>\n",
       "    <tr style=\"text-align: right;\">\n",
       "      <th></th>\n",
       "      <th>Security Symbol</th>\n",
       "      <th>Security Name</th>\n",
       "      <th>Industry</th>\n",
       "      <th>Equity Capital (In Rs.)</th>\n",
       "      <th>Free Float Market Capitalisation (Rs. Crores)</th>\n",
       "      <th>Weightage (%)</th>\n",
       "      <th>Beta</th>\n",
       "      <th>R2</th>\n",
       "      <th>Volatility (%)</th>\n",
       "      <th>Monthly Return</th>\n",
       "      <th>Avg. Impact Cost (%)</th>\n",
       "      <th>Total Return</th>\n",
       "    </tr>\n",
       "    <tr>\n",
       "      <th>Sr. No</th>\n",
       "      <th></th>\n",
       "      <th></th>\n",
       "      <th></th>\n",
       "      <th></th>\n",
       "      <th></th>\n",
       "      <th></th>\n",
       "      <th></th>\n",
       "      <th></th>\n",
       "      <th></th>\n",
       "      <th></th>\n",
       "      <th></th>\n",
       "      <th></th>\n",
       "    </tr>\n",
       "  </thead>\n",
       "  <tbody>\n",
       "    <tr>\n",
       "      <th>1</th>\n",
       "      <td>ADANIPORTS</td>\n",
       "      <td>Adani Ports and Special Economic Zone Ltd.</td>\n",
       "      <td>SHIPPING</td>\n",
       "      <td>4141903522</td>\n",
       "      <td>25883.17</td>\n",
       "      <td>0.59</td>\n",
       "      <td>1.27</td>\n",
       "      <td>0.25</td>\n",
       "      <td>1.85</td>\n",
       "      <td>-14.158946</td>\n",
       "      <td>0.05</td>\n",
       "      <td>-0.083538</td>\n",
       "    </tr>\n",
       "    <tr>\n",
       "      <th>2</th>\n",
       "      <td>ASIANPAINT</td>\n",
       "      <td>Asian Paints Ltd.</td>\n",
       "      <td>PAINTS</td>\n",
       "      <td>959197790</td>\n",
       "      <td>58304.93</td>\n",
       "      <td>1.34</td>\n",
       "      <td>0.74</td>\n",
       "      <td>0.16</td>\n",
       "      <td>1.55</td>\n",
       "      <td>-5.767059</td>\n",
       "      <td>0.03</td>\n",
       "      <td>-0.077279</td>\n",
       "    </tr>\n",
       "    <tr>\n",
       "      <th>3</th>\n",
       "      <td>AXISBANK</td>\n",
       "      <td>Axis Bank Ltd.</td>\n",
       "      <td>BANKS</td>\n",
       "      <td>5137681032</td>\n",
       "      <td>108698.56</td>\n",
       "      <td>2.50</td>\n",
       "      <td>1.34</td>\n",
       "      <td>0.22</td>\n",
       "      <td>1.66</td>\n",
       "      <td>-5.544859</td>\n",
       "      <td>0.03</td>\n",
       "      <td>-0.138621</td>\n",
       "    </tr>\n",
       "    <tr>\n",
       "      <th>4</th>\n",
       "      <td>BAJAJ-AUTO</td>\n",
       "      <td>Bajaj Auto Ltd.</td>\n",
       "      <td>AUTOMOBILES - 2 AND 3 WHEELERS</td>\n",
       "      <td>2893670200</td>\n",
       "      <td>36549.99</td>\n",
       "      <td>0.84</td>\n",
       "      <td>1.02</td>\n",
       "      <td>0.21</td>\n",
       "      <td>1.86</td>\n",
       "      <td>-2.091189</td>\n",
       "      <td>0.03</td>\n",
       "      <td>-0.017566</td>\n",
       "    </tr>\n",
       "    <tr>\n",
       "      <th>5</th>\n",
       "      <td>BAJFINANCE</td>\n",
       "      <td>Bajaj Finance Ltd.</td>\n",
       "      <td>FINANCE</td>\n",
       "      <td>1155936776</td>\n",
       "      <td>51374.45</td>\n",
       "      <td>1.18</td>\n",
       "      <td>1.24</td>\n",
       "      <td>0.19</td>\n",
       "      <td>2.52</td>\n",
       "      <td>-24.105580</td>\n",
       "      <td>0.03</td>\n",
       "      <td>-0.284446</td>\n",
       "    </tr>\n",
       "  </tbody>\n",
       "</table>\n",
       "</div>"
      ],
      "text/plain": [
       "       Security Symbol                               Security Name  \\\n",
       "Sr. No                                                               \n",
       "1           ADANIPORTS  Adani Ports and Special Economic Zone Ltd.   \n",
       "2           ASIANPAINT                           Asian Paints Ltd.   \n",
       "3             AXISBANK                              Axis Bank Ltd.   \n",
       "4           BAJAJ-AUTO                             Bajaj Auto Ltd.   \n",
       "5           BAJFINANCE                          Bajaj Finance Ltd.   \n",
       "\n",
       "                              Industry  Equity Capital (In Rs.)  \\\n",
       "Sr. No                                                            \n",
       "1                             SHIPPING               4141903522   \n",
       "2                               PAINTS                959197790   \n",
       "3                                BANKS               5137681032   \n",
       "4       AUTOMOBILES - 2 AND 3 WHEELERS               2893670200   \n",
       "5                              FINANCE               1155936776   \n",
       "\n",
       "        Free Float Market Capitalisation (Rs. Crores)  Weightage (%)  Beta  \\\n",
       "Sr. No                                                                       \n",
       "1                                            25883.17           0.59  1.27   \n",
       "2                                            58304.93           1.34  0.74   \n",
       "3                                           108698.56           2.50  1.34   \n",
       "4                                            36549.99           0.84  1.02   \n",
       "5                                            51374.45           1.18  1.24   \n",
       "\n",
       "          R2  Volatility (%)  Monthly Return  Avg. Impact Cost (%)  \\\n",
       "Sr. No                                                               \n",
       "1       0.25            1.85      -14.158946                  0.05   \n",
       "2       0.16            1.55       -5.767059                  0.03   \n",
       "3       0.22            1.66       -5.544859                  0.03   \n",
       "4       0.21            1.86       -2.091189                  0.03   \n",
       "5       0.19            2.52      -24.105580                  0.03   \n",
       "\n",
       "        Total Return  \n",
       "Sr. No                \n",
       "1          -0.083538  \n",
       "2          -0.077279  \n",
       "3          -0.138621  \n",
       "4          -0.017566  \n",
       "5          -0.284446  "
      ]
     },
     "execution_count": 6,
     "metadata": {},
     "output_type": "execute_result"
    }
   ],
   "source": [
    "nifty50_sep.head()"
   ]
  },
  {
   "cell_type": "markdown",
   "metadata": {},
   "source": [
    "#### Find the summation of the Total Returns for every month "
   ]
  },
  {
   "cell_type": "code",
   "execution_count": 7,
   "metadata": {},
   "outputs": [],
   "source": [
    "nifty50_sep_TR=nifty50_sep['Total Return'].sum()\n",
    "nifty50_oct_TR=nifty50_oct['Total Return'].sum()\n",
    "nifty50_nov_TR=nifty50_nov['Total Return'].sum()\n",
    "nifty50_dec_TR=nifty50_dec['Total Return'].sum()\n",
    "nifty50_jan_TR=nifty50_jan['Total Return'].sum()\n",
    "nifty50_feb_TR=nifty50_feb['Total Return'].sum()\n",
    "niftynext50_sep_TR=niftynext50_sep['Total Return'].sum()\n",
    "niftynext50_oct_TR=niftynext50_oct['Total Return'].sum()\n",
    "niftynext50_nov_TR=niftynext50_nov['Total Return'].sum()\n",
    "niftynext50_dec_TR=niftynext50_dec['Total Return'].sum()\n",
    "niftynext50_jan_TR=niftynext50_jan['Total Return'].sum()\n",
    "niftynext50_feb_TR=niftynext50_feb['Total Return'].sum()"
   ]
  },
  {
   "cell_type": "code",
   "execution_count": 8,
   "metadata": {},
   "outputs": [
    {
     "data": {
      "text/plain": [
       "-5.662181087329"
      ]
     },
     "execution_count": 8,
     "metadata": {},
     "output_type": "execute_result"
    }
   ],
   "source": [
    "nifty50_sep_TR"
   ]
  },
  {
   "cell_type": "markdown",
   "metadata": {},
   "source": [
    "#### Create two new dataframes for each index with first column being a list of months and second column being the respective total returns "
   ]
  },
  {
   "cell_type": "code",
   "execution_count": 9,
   "metadata": {},
   "outputs": [],
   "source": [
    "totalreturns_nifty50=pd.DataFrame({'Month':['Sep','Oct','Nov','Dec','Jan','Feb'],\n",
    "                                   'Total Returns (nifty50)':[nifty50_sep_TR,nifty50_oct_TR,nifty50_nov_TR, \n",
    "                                                    nifty50_dec_TR,nifty50_jan_TR,nifty50_feb_TR]})\n",
    "\n",
    "totalreturns_niftynext50=pd.DataFrame({'Month':['Sep','Oct','Nov','Dec','Jan','Feb'],\n",
    "                                       'Total Returns (niftynext50)':[niftynext50_sep_TR,niftynext50_oct_TR,niftynext50_nov_TR, \n",
    "                                                        niftynext50_dec_TR,niftynext50_jan_TR,niftynext50_feb_TR]})"
   ]
  },
  {
   "cell_type": "code",
   "execution_count": 10,
   "metadata": {},
   "outputs": [
    {
     "data": {
      "text/html": [
       "<div>\n",
       "<style scoped>\n",
       "    .dataframe tbody tr th:only-of-type {\n",
       "        vertical-align: middle;\n",
       "    }\n",
       "\n",
       "    .dataframe tbody tr th {\n",
       "        vertical-align: top;\n",
       "    }\n",
       "\n",
       "    .dataframe thead th {\n",
       "        text-align: right;\n",
       "    }\n",
       "</style>\n",
       "<table border=\"1\" class=\"dataframe\">\n",
       "  <thead>\n",
       "    <tr style=\"text-align: right;\">\n",
       "      <th></th>\n",
       "      <th>Month</th>\n",
       "      <th>Total Returns (niftynext50)</th>\n",
       "    </tr>\n",
       "  </thead>\n",
       "  <tbody>\n",
       "    <tr>\n",
       "      <th>0</th>\n",
       "      <td>Sep</td>\n",
       "      <td>-11.409402</td>\n",
       "    </tr>\n",
       "    <tr>\n",
       "      <th>1</th>\n",
       "      <td>Oct</td>\n",
       "      <td>-2.205974</td>\n",
       "    </tr>\n",
       "    <tr>\n",
       "      <th>2</th>\n",
       "      <td>Nov</td>\n",
       "      <td>4.520387</td>\n",
       "    </tr>\n",
       "    <tr>\n",
       "      <th>3</th>\n",
       "      <td>Dec</td>\n",
       "      <td>2.480322</td>\n",
       "    </tr>\n",
       "    <tr>\n",
       "      <th>4</th>\n",
       "      <td>Jan</td>\n",
       "      <td>-5.129962</td>\n",
       "    </tr>\n",
       "    <tr>\n",
       "      <th>5</th>\n",
       "      <td>Feb</td>\n",
       "      <td>0.328264</td>\n",
       "    </tr>\n",
       "  </tbody>\n",
       "</table>\n",
       "</div>"
      ],
      "text/plain": [
       "  Month  Total Returns (niftynext50)\n",
       "0   Sep                   -11.409402\n",
       "1   Oct                    -2.205974\n",
       "2   Nov                     4.520387\n",
       "3   Dec                     2.480322\n",
       "4   Jan                    -5.129962\n",
       "5   Feb                     0.328264"
      ]
     },
     "execution_count": 10,
     "metadata": {},
     "output_type": "execute_result"
    }
   ],
   "source": [
    "totalreturns_niftynext50"
   ]
  },
  {
   "cell_type": "markdown",
   "metadata": {},
   "source": [
    "#### Set the column 'Month' as index "
   ]
  },
  {
   "cell_type": "code",
   "execution_count": 27,
   "metadata": {},
   "outputs": [
    {
     "data": {
      "text/html": [
       "<div>\n",
       "<style scoped>\n",
       "    .dataframe tbody tr th:only-of-type {\n",
       "        vertical-align: middle;\n",
       "    }\n",
       "\n",
       "    .dataframe tbody tr th {\n",
       "        vertical-align: top;\n",
       "    }\n",
       "\n",
       "    .dataframe thead th {\n",
       "        text-align: right;\n",
       "    }\n",
       "</style>\n",
       "<table border=\"1\" class=\"dataframe\">\n",
       "  <thead>\n",
       "    <tr style=\"text-align: right;\">\n",
       "      <th></th>\n",
       "      <th>Total Returns (nifty50)</th>\n",
       "    </tr>\n",
       "    <tr>\n",
       "      <th>Month</th>\n",
       "      <th></th>\n",
       "    </tr>\n",
       "  </thead>\n",
       "  <tbody>\n",
       "    <tr>\n",
       "      <th>Sep</th>\n",
       "      <td>-5.662181</td>\n",
       "    </tr>\n",
       "    <tr>\n",
       "      <th>Oct</th>\n",
       "      <td>-4.326490</td>\n",
       "    </tr>\n",
       "    <tr>\n",
       "      <th>Nov</th>\n",
       "      <td>5.188389</td>\n",
       "    </tr>\n",
       "    <tr>\n",
       "      <th>Dec</th>\n",
       "      <td>0.024880</td>\n",
       "    </tr>\n",
       "    <tr>\n",
       "      <th>Jan</th>\n",
       "      <td>0.328807</td>\n",
       "    </tr>\n",
       "    <tr>\n",
       "      <th>Feb</th>\n",
       "      <td>-0.141857</td>\n",
       "    </tr>\n",
       "  </tbody>\n",
       "</table>\n",
       "</div>"
      ],
      "text/plain": [
       "       Total Returns (nifty50)\n",
       "Month                         \n",
       "Sep                  -5.662181\n",
       "Oct                  -4.326490\n",
       "Nov                   5.188389\n",
       "Dec                   0.024880\n",
       "Jan                   0.328807\n",
       "Feb                  -0.141857"
      ]
     },
     "execution_count": 27,
     "metadata": {},
     "output_type": "execute_result"
    }
   ],
   "source": [
    "totalreturns_nifty50=totalreturns_nifty50.set_index('Month')\n",
    "totalreturns_nifty50"
   ]
  },
  {
   "cell_type": "code",
   "execution_count": 28,
   "metadata": {},
   "outputs": [
    {
     "data": {
      "text/html": [
       "<div>\n",
       "<style scoped>\n",
       "    .dataframe tbody tr th:only-of-type {\n",
       "        vertical-align: middle;\n",
       "    }\n",
       "\n",
       "    .dataframe tbody tr th {\n",
       "        vertical-align: top;\n",
       "    }\n",
       "\n",
       "    .dataframe thead th {\n",
       "        text-align: right;\n",
       "    }\n",
       "</style>\n",
       "<table border=\"1\" class=\"dataframe\">\n",
       "  <thead>\n",
       "    <tr style=\"text-align: right;\">\n",
       "      <th></th>\n",
       "      <th>Total Returns (niftynext50)</th>\n",
       "    </tr>\n",
       "    <tr>\n",
       "      <th>Month</th>\n",
       "      <th></th>\n",
       "    </tr>\n",
       "  </thead>\n",
       "  <tbody>\n",
       "    <tr>\n",
       "      <th>Sep</th>\n",
       "      <td>-11.409402</td>\n",
       "    </tr>\n",
       "    <tr>\n",
       "      <th>Oct</th>\n",
       "      <td>-2.205974</td>\n",
       "    </tr>\n",
       "    <tr>\n",
       "      <th>Nov</th>\n",
       "      <td>4.520387</td>\n",
       "    </tr>\n",
       "    <tr>\n",
       "      <th>Dec</th>\n",
       "      <td>2.480322</td>\n",
       "    </tr>\n",
       "    <tr>\n",
       "      <th>Jan</th>\n",
       "      <td>-5.129962</td>\n",
       "    </tr>\n",
       "    <tr>\n",
       "      <th>Feb</th>\n",
       "      <td>0.328264</td>\n",
       "    </tr>\n",
       "  </tbody>\n",
       "</table>\n",
       "</div>"
      ],
      "text/plain": [
       "       Total Returns (niftynext50)\n",
       "Month                             \n",
       "Sep                     -11.409402\n",
       "Oct                      -2.205974\n",
       "Nov                       4.520387\n",
       "Dec                       2.480322\n",
       "Jan                      -5.129962\n",
       "Feb                       0.328264"
      ]
     },
     "execution_count": 28,
     "metadata": {},
     "output_type": "execute_result"
    }
   ],
   "source": [
    "totalreturns_niftynext50=totalreturns_niftynext50.set_index('Month')\n",
    "totalreturns_niftynext50"
   ]
  },
  {
   "cell_type": "markdown",
   "metadata": {},
   "source": [
    "#### Obtain the plot using plotly "
   ]
  },
  {
   "cell_type": "code",
   "execution_count": 26,
   "metadata": {},
   "outputs": [
    {
     "data": {
      "text/html": [
       "<iframe id=\"igraph\" scrolling=\"no\" style=\"border:none;\" seamless=\"seamless\" src=\"https://plot.ly/~Devanshi/13.embed\" height=\"525px\" width=\"100%\"></iframe>"
      ],
      "text/plain": [
       "<plotly.tools.PlotlyDisplay object>"
      ]
     },
     "execution_count": 26,
     "metadata": {},
     "output_type": "execute_result"
    }
   ],
   "source": [
    "import plotly.plotly as py\n",
    "import plotly.graph_objs as go\n",
    "\n",
    "# Create and style traces\n",
    "trace0 = go.Scatter(\n",
    "    x = totalreturns_nifty50['Month'],\n",
    "    y = totalreturns_nifty50['Total Returns (nifty50)'],\n",
    "    name = 'NIFTY 50',\n",
    "    mode = 'lines+markers',\n",
    "    line = dict(color = ('rgb(81,216,55)'), width = 7),\n",
    "    marker = dict(color = ('rgb(58,150,20)'), size = 9))\n",
    "\n",
    "trace1 = go.Scatter(\n",
    "x = totalreturns_niftynext50['Month'],\n",
    "    y = totalreturns_niftynext50['Total Returns (niftynext50)'],\n",
    "    name = 'NIFTY Next 50',\n",
    "    line = dict(color = ('rgb(23,128,12)'),width = 7),\n",
    "    marker = dict(color = ('rgb(5,31,7)'), size = 9, symbol='square'))\n",
    "\n",
    "data = [trace0, trace1]\n",
    "\n",
    "# Edit the layout\n",
    "layout = dict(title = 'NIFTY 50 Returns vs NIFTY Next 50 Returns',\n",
    "              xaxis = dict(title = 'Month'),\n",
    "              yaxis = dict(title = 'Total Returns'),\n",
    "              )\n",
    "\n",
    "fig = dict(data=data, layout=layout)\n",
    "py.iplot(fig, filename='total nifty returns copy')"
   ]
  },
  {
   "cell_type": "code",
   "execution_count": null,
   "metadata": {},
   "outputs": [],
   "source": []
  }
 ],
 "metadata": {
  "kernelspec": {
   "display_name": "Python 3",
   "language": "python",
   "name": "python3"
  },
  "language_info": {
   "codemirror_mode": {
    "name": "ipython",
    "version": 3
   },
   "file_extension": ".py",
   "mimetype": "text/x-python",
   "name": "python",
   "nbconvert_exporter": "python",
   "pygments_lexer": "ipython3",
   "version": "3.6.8"
  }
 },
 "nbformat": 4,
 "nbformat_minor": 2
}
