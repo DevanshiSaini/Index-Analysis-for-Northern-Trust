{
 "cells": [
  {
   "cell_type": "markdown",
   "metadata": {},
   "source": [
    "#### Import the required libraries"
   ]
  },
  {
   "cell_type": "code",
   "execution_count": 2,
   "metadata": {},
   "outputs": [],
   "source": [
    "import pandas as pd\n",
    "import matplotlib.pyplot as plt"
   ]
  },
  {
   "cell_type": "markdown",
   "metadata": {},
   "source": [
    "#### Set the working directory "
   ]
  },
  {
   "cell_type": "code",
   "execution_count": 3,
   "metadata": {},
   "outputs": [
    {
     "name": "stdout",
     "output_type": "stream",
     "text": [
      "D:\\nifty50 and niftynext50 data\n"
     ]
    }
   ],
   "source": [
    "cd D:\\nifty50 and niftynext50 data"
   ]
  },
  {
   "cell_type": "markdown",
   "metadata": {},
   "source": [
    "#### Read the csv files "
   ]
  },
  {
   "cell_type": "code",
   "execution_count": 4,
   "metadata": {},
   "outputs": [],
   "source": [
    "nifty50_sep=pd.read_csv(\"nifty50_sep.csv\", index_col=0)\n",
    "nifty50_oct=pd.read_csv(\"nifty50_oct.csv\", index_col=0)\n",
    "nifty50_nov=pd.read_csv(\"nifty50_nov.csv\", index_col=0)\n",
    "nifty50_dec=pd.read_csv(\"nifty50_dec.csv\", index_col=0)\n",
    "nifty50_jan=pd.read_csv(\"nifty50_jan.csv\", index_col=0)\n",
    "nifty50_feb=pd.read_csv(\"nifty50_feb.csv\", index_col=0)\n",
    "niftynext50_sep=pd.read_csv(\"niftynext50_sep.csv\", index_col=0)\n",
    "niftynext50_oct=pd.read_csv(\"niftynext50_oct.csv\", index_col=0)\n",
    "niftynext50_nov=pd.read_csv(\"niftynext50_nov.csv\", index_col=0)\n",
    "niftynext50_dec=pd.read_csv(\"niftynext50_dec.csv\", index_col=0)\n",
    "niftynext50_jan=pd.read_csv(\"niftynext50_jan.csv\", index_col=0)\n",
    "niftynext50_feb=pd.read_csv(\"niftynext50_feb.csv\", index_col=0)"
   ]
  },
  {
   "cell_type": "markdown",
   "metadata": {},
   "source": [
    "#### Multiply weightage with Monthly Return divided by 100, to obtain a new column 'Total Return'"
   ]
  },
  {
   "cell_type": "code",
   "execution_count": 5,
   "metadata": {},
   "outputs": [],
   "source": [
    "nifty50_sep['Total Return']=nifty50_sep['Weightage (%)']*nifty50_sep['Monthly Return']/100\n",
    "nifty50_oct['Total Return']=nifty50_oct['Weightage (%)']*nifty50_oct['Monthly Return']/100\n",
    "nifty50_nov['Total Return']=nifty50_nov['Weightage (%)']*nifty50_nov['Monthly Return']/100\n",
    "nifty50_dec['Total Return']=nifty50_dec['Weightage (%)']*nifty50_dec['Monthly Return']/100\n",
    "nifty50_jan['Total Return']=nifty50_jan['Weightage (%)']*nifty50_jan['Monthly Return']/100\n",
    "nifty50_feb['Total Return']=nifty50_feb['Weightage (%)']*nifty50_feb['Monthly Return']/100\n",
    "niftynext50_sep['Total Return']=niftynext50_sep['Weightage (%)']*niftynext50_sep['Monthly Return']/100\n",
    "niftynext50_oct['Total Return']=niftynext50_oct['Weightage (%)']*niftynext50_oct['Monthly Return']/100\n",
    "niftynext50_nov['Total Return']=niftynext50_nov['Weightage (%)']*niftynext50_nov['Monthly Return']/100\n",
    "niftynext50_dec['Total Return']=niftynext50_dec['Weightage (%)']*niftynext50_dec['Monthly Return']/100\n",
    "niftynext50_jan['Total Return']=niftynext50_jan['Weightage (%)']*niftynext50_jan['Monthly Return']/100\n",
    "niftynext50_feb['Total Return']=niftynext50_feb['Weightage (%)']*niftynext50_feb['Monthly Return']/100"
   ]
  },
  {
   "cell_type": "markdown",
   "metadata": {},
   "source": [
    "#### Find the summation of the Total Returns for every month "
   ]
  },
  {
   "cell_type": "code",
   "execution_count": 6,
   "metadata": {},
   "outputs": [],
   "source": [
    "nifty50_sep_TR=nifty50_sep['Total Return'].sum()\n",
    "nifty50_oct_TR=nifty50_oct['Total Return'].sum()\n",
    "nifty50_nov_TR=nifty50_nov['Total Return'].sum()\n",
    "nifty50_dec_TR=nifty50_dec['Total Return'].sum()\n",
    "nifty50_jan_TR=nifty50_jan['Total Return'].sum()\n",
    "nifty50_feb_TR=nifty50_feb['Total Return'].sum()\n",
    "niftynext50_sep_TR=niftynext50_sep['Total Return'].sum()\n",
    "niftynext50_oct_TR=niftynext50_oct['Total Return'].sum()\n",
    "niftynext50_nov_TR=niftynext50_nov['Total Return'].sum()\n",
    "niftynext50_dec_TR=niftynext50_dec['Total Return'].sum()\n",
    "niftynext50_jan_TR=niftynext50_jan['Total Return'].sum()\n",
    "niftynext50_feb_TR=niftynext50_feb['Total Return'].sum()"
   ]
  },
  {
   "cell_type": "code",
   "execution_count": 7,
   "metadata": {},
   "outputs": [
    {
     "data": {
      "text/plain": [
       "0.3282640000000002"
      ]
     },
     "execution_count": 7,
     "metadata": {},
     "output_type": "execute_result"
    }
   ],
   "source": [
    "niftynext50_feb_TR"
   ]
  },
  {
   "cell_type": "markdown",
   "metadata": {},
   "source": [
    "#### Create two new dataframes for each index with first column being a list of months and second column being the respective total returns "
   ]
  },
  {
   "cell_type": "code",
   "execution_count": 21,
   "metadata": {},
   "outputs": [],
   "source": [
    "totalreturns_nifty50=pd.DataFrame({'Month':['Sep','Oct','Nov','Dec','Jan','Feb'],\n",
    "                                   'Total Returns (nifty50)':[nifty50_sep_TR,nifty50_oct_TR,nifty50_nov_TR, \n",
    "                                                    nifty50_dec_TR,nifty50_jan_TR,nifty50_feb_TR]})\n",
    "\n",
    "totalreturns_niftynext50=pd.DataFrame({'Month':['Sep','Oct','Nov','Dec','Jan','Feb'],\n",
    "                                       'Total Returns (niftynext50)':[niftynext50_sep_TR,niftynext50_oct_TR,niftynext50_nov_TR, \n",
    "                                                        niftynext50_dec_TR,niftynext50_jan_TR,niftynext50_feb_TR]})"
   ]
  },
  {
   "cell_type": "code",
   "execution_count": 8,
   "metadata": {},
   "outputs": [
    {
     "ename": "NameError",
     "evalue": "name 'totalreturns_niftynext50' is not defined",
     "output_type": "error",
     "traceback": [
      "\u001b[1;31m---------------------------------------------------------------------------\u001b[0m",
      "\u001b[1;31mNameError\u001b[0m                                 Traceback (most recent call last)",
      "\u001b[1;32m<ipython-input-8-2693bb555ae7>\u001b[0m in \u001b[0;36m<module>\u001b[1;34m\u001b[0m\n\u001b[1;32m----> 1\u001b[1;33m \u001b[0mtotalreturns_niftynext50\u001b[0m\u001b[1;33m\u001b[0m\u001b[1;33m\u001b[0m\u001b[0m\n\u001b[0m",
      "\u001b[1;31mNameError\u001b[0m: name 'totalreturns_niftynext50' is not defined"
     ]
    }
   ],
   "source": [
    "totalreturns_niftynext50"
   ]
  },
  {
   "cell_type": "markdown",
   "metadata": {},
   "source": [
    "#### Set the column 'Month' as index "
   ]
  },
  {
   "cell_type": "code",
   "execution_count": 56,
   "metadata": {},
   "outputs": [
    {
     "data": {
      "text/html": [
       "<div>\n",
       "<style scoped>\n",
       "    .dataframe tbody tr th:only-of-type {\n",
       "        vertical-align: middle;\n",
       "    }\n",
       "\n",
       "    .dataframe tbody tr th {\n",
       "        vertical-align: top;\n",
       "    }\n",
       "\n",
       "    .dataframe thead th {\n",
       "        text-align: right;\n",
       "    }\n",
       "</style>\n",
       "<table border=\"1\" class=\"dataframe\">\n",
       "  <thead>\n",
       "    <tr style=\"text-align: right;\">\n",
       "      <th></th>\n",
       "      <th>Total Returns (nifty50)</th>\n",
       "    </tr>\n",
       "    <tr>\n",
       "      <th>Month</th>\n",
       "      <th></th>\n",
       "    </tr>\n",
       "  </thead>\n",
       "  <tbody>\n",
       "    <tr>\n",
       "      <th>Sep</th>\n",
       "      <td>-5.662181</td>\n",
       "    </tr>\n",
       "    <tr>\n",
       "      <th>Oct</th>\n",
       "      <td>-4.326490</td>\n",
       "    </tr>\n",
       "    <tr>\n",
       "      <th>Nov</th>\n",
       "      <td>5.188389</td>\n",
       "    </tr>\n",
       "    <tr>\n",
       "      <th>Dec</th>\n",
       "      <td>0.024880</td>\n",
       "    </tr>\n",
       "    <tr>\n",
       "      <th>Jan</th>\n",
       "      <td>0.328807</td>\n",
       "    </tr>\n",
       "    <tr>\n",
       "      <th>Feb</th>\n",
       "      <td>-0.141857</td>\n",
       "    </tr>\n",
       "  </tbody>\n",
       "</table>\n",
       "</div>"
      ],
      "text/plain": [
       "       Total Returns (nifty50)\n",
       "Month                         \n",
       "Sep                  -5.662181\n",
       "Oct                  -4.326490\n",
       "Nov                   5.188389\n",
       "Dec                   0.024880\n",
       "Jan                   0.328807\n",
       "Feb                  -0.141857"
      ]
     },
     "execution_count": 56,
     "metadata": {},
     "output_type": "execute_result"
    }
   ],
   "source": [
    "totalreturns_nifty50=totalreturns_nifty50.set_index('Month')\n",
    "totalreturns_nifty50"
   ]
  },
  {
   "cell_type": "code",
   "execution_count": 57,
   "metadata": {},
   "outputs": [
    {
     "data": {
      "text/html": [
       "<div>\n",
       "<style scoped>\n",
       "    .dataframe tbody tr th:only-of-type {\n",
       "        vertical-align: middle;\n",
       "    }\n",
       "\n",
       "    .dataframe tbody tr th {\n",
       "        vertical-align: top;\n",
       "    }\n",
       "\n",
       "    .dataframe thead th {\n",
       "        text-align: right;\n",
       "    }\n",
       "</style>\n",
       "<table border=\"1\" class=\"dataframe\">\n",
       "  <thead>\n",
       "    <tr style=\"text-align: right;\">\n",
       "      <th></th>\n",
       "      <th>Total Returns (niftynext50)</th>\n",
       "    </tr>\n",
       "    <tr>\n",
       "      <th>Month</th>\n",
       "      <th></th>\n",
       "    </tr>\n",
       "  </thead>\n",
       "  <tbody>\n",
       "    <tr>\n",
       "      <th>Sep</th>\n",
       "      <td>-11.409402</td>\n",
       "    </tr>\n",
       "    <tr>\n",
       "      <th>Oct</th>\n",
       "      <td>-2.205974</td>\n",
       "    </tr>\n",
       "    <tr>\n",
       "      <th>Nov</th>\n",
       "      <td>4.520387</td>\n",
       "    </tr>\n",
       "    <tr>\n",
       "      <th>Dec</th>\n",
       "      <td>2.480322</td>\n",
       "    </tr>\n",
       "    <tr>\n",
       "      <th>Jan</th>\n",
       "      <td>-5.129962</td>\n",
       "    </tr>\n",
       "    <tr>\n",
       "      <th>Feb</th>\n",
       "      <td>0.328264</td>\n",
       "    </tr>\n",
       "  </tbody>\n",
       "</table>\n",
       "</div>"
      ],
      "text/plain": [
       "       Total Returns (niftynext50)\n",
       "Month                             \n",
       "Sep                     -11.409402\n",
       "Oct                      -2.205974\n",
       "Nov                       4.520387\n",
       "Dec                       2.480322\n",
       "Jan                      -5.129962\n",
       "Feb                       0.328264"
      ]
     },
     "execution_count": 57,
     "metadata": {},
     "output_type": "execute_result"
    }
   ],
   "source": [
    "totalreturns_niftynext50=totalreturns_niftynext50.set_index('Month')\n",
    "totalreturns_niftynext50"
   ]
  },
  {
   "cell_type": "markdown",
   "metadata": {},
   "source": [
    "#### Obtain the plot using plotly "
   ]
  },
  {
   "cell_type": "code",
   "execution_count": 55,
   "metadata": {},
   "outputs": [
    {
     "data": {
      "text/html": [
       "<iframe id=\"igraph\" scrolling=\"no\" style=\"border:none;\" seamless=\"seamless\" src=\"https://plot.ly/~Devanshi/10.embed\" height=\"525px\" width=\"100%\"></iframe>"
      ],
      "text/plain": [
       "<plotly.tools.PlotlyDisplay object>"
      ]
     },
     "execution_count": 55,
     "metadata": {},
     "output_type": "execute_result"
    }
   ],
   "source": [
    "import plotly.plotly as py\n",
    "import plotly.graph_objs as go\n",
    "\n",
    "# Create and style traces\n",
    "trace0 = go.Scatter(\n",
    "    x = totalreturns_nifty50['Month'],\n",
    "    y = totalreturns_nifty50['Total Returns (nifty50)'],\n",
    "    name = 'NIFTY 50',\n",
    "    line = dict(\n",
    "        color = ('rgb(150, 20, 20)'),\n",
    "        width = 4)\n",
    ")\n",
    "trace1 = go.Scatter(\n",
    "x = totalreturns_niftynext50['Month'],\n",
    "    y = totalreturns_niftynext50['Total Returns (niftynext50)'],\n",
    "    name = 'NIFTY Next 50',\n",
    "    line = dict(\n",
    "        color = ('rgb(215, 2, 2)'),\n",
    "        width = 4,)\n",
    ")\n",
    "\n",
    "data = [trace0, trace1]\n",
    "\n",
    "# Edit the layout\n",
    "layout = dict(title = 'NIFTY 50 Returns vs NIFTY Next 50 Returns',\n",
    "              xaxis = dict(title = 'Month'),\n",
    "              yaxis = dict(title = 'Total Returns'),\n",
    "              )\n",
    "\n",
    "fig = dict(data=data, layout=layout)\n",
    "py.iplot(fig, filename='total nifty returns')"
   ]
  }
 ],
 "metadata": {
  "kernelspec": {
   "display_name": "Python 3",
   "language": "python",
   "name": "python3"
  },
  "language_info": {
   "codemirror_mode": {
    "name": "ipython",
    "version": 3
   },
   "file_extension": ".py",
   "mimetype": "text/x-python",
   "name": "python",
   "nbconvert_exporter": "python",
   "pygments_lexer": "ipython3",
   "version": "3.6.8"
  }
 },
 "nbformat": 4,
 "nbformat_minor": 2
}
